{
  "nbformat": 4,
  "nbformat_minor": 0,
  "metadata": {
    "colab": {
      "name": "Untitled1.ipynb",
      "provenance": []
    },
    "kernelspec": {
      "name": "python3",
      "display_name": "Python 3"
    }
  },
  "cells": [
    {
      "cell_type": "code",
      "metadata": {
        "id": "0fcjy2652_ON",
        "colab_type": "code",
        "colab": {
          "base_uri": "https://localhost:8080/",
          "height": 35
        },
        "outputId": "88e58a0f-0b87-4278-acec-840f3aab8197"
      },
      "source": [
        "%tensorflow_version 2.x\n",
        "import tensorflow\n",
        "tensorflow.__version__"
      ],
      "execution_count": 3,
      "outputs": [
        {
          "output_type": "execute_result",
          "data": {
            "text/plain": [
              "'2.2.0'"
            ]
          },
          "metadata": {
            "tags": []
          },
          "execution_count": 3
        }
      ]
    },
    {
      "cell_type": "code",
      "metadata": {
        "id": "-eGBjQ_P31Wi",
        "colab_type": "code",
        "colab": {}
      },
      "source": [
        "import pandas as pd\n",
        "from tensorflow.keras.models import Sequential\n",
        "from tensorflow.keras.layers import Dense\n",
        "from sklearn import model_selection\n",
        "from sklearn.model_selection import train_test_split\n",
        "from sklearn.preprocessing import LabelEncoder, OneHotEncoder\n",
        "from sklearn.metrics import confusion_matrix\n",
        "import matplotlib.pyplot as plt"
      ],
      "execution_count": 4,
      "outputs": []
    },
    {
      "cell_type": "code",
      "metadata": {
        "id": "55sRR3v64ESO",
        "colab_type": "code",
        "colab": {}
      },
      "source": [
        "from google.colab import drive"
      ],
      "execution_count": 7,
      "outputs": []
    },
    {
      "cell_type": "code",
      "metadata": {
        "id": "qDK3hz4_4nZw",
        "colab_type": "code",
        "colab": {
          "base_uri": "https://localhost:8080/",
          "height": 124
        },
        "outputId": "138b3725-f600-4963-b212-e52225214bc5"
      },
      "source": [
        "drive.mount('/content/drive/')"
      ],
      "execution_count": 8,
      "outputs": [
        {
          "output_type": "stream",
          "text": [
            "Go to this URL in a browser: https://accounts.google.com/o/oauth2/auth?client_id=947318989803-6bn6qk8qdgf4n4g3pfee6491hc0brc4i.apps.googleusercontent.com&redirect_uri=urn%3aietf%3awg%3aoauth%3a2.0%3aoob&response_type=code&scope=email%20https%3a%2f%2fwww.googleapis.com%2fauth%2fdocs.test%20https%3a%2f%2fwww.googleapis.com%2fauth%2fdrive%20https%3a%2f%2fwww.googleapis.com%2fauth%2fdrive.photos.readonly%20https%3a%2f%2fwww.googleapis.com%2fauth%2fpeopleapi.readonly\n",
            "\n",
            "Enter your authorization code:\n",
            "··········\n",
            "Mounted at /content/drive/\n"
          ],
          "name": "stdout"
        }
      ]
    },
    {
      "cell_type": "code",
      "metadata": {
        "id": "83ixdGBZ4puy",
        "colab_type": "code",
        "colab": {}
      },
      "source": [
        "import h5py"
      ],
      "execution_count": 9,
      "outputs": []
    },
    {
      "cell_type": "code",
      "metadata": {
        "id": "Ybe6_dKj7pCI",
        "colab_type": "code",
        "colab": {}
      },
      "source": [
        "h5f=h5py.File('/content/drive/My Drive/dataset/SVHN_single_grey1.h5','r')"
      ],
      "execution_count": 10,
      "outputs": []
    },
    {
      "cell_type": "code",
      "metadata": {
        "id": "m2_LBu-o796p",
        "colab_type": "code",
        "colab": {}
      },
      "source": [
        "X_train=h5f['X_train'][:]\n",
        "y_train=h5f['y_train'][:]\n",
        "X_val=h5f['X_test'][:]\n",
        "y_val=h5f['y_test'][:]"
      ],
      "execution_count": 11,
      "outputs": []
    },
    {
      "cell_type": "code",
      "metadata": {
        "id": "ERUQte008L-p",
        "colab_type": "code",
        "colab": {}
      },
      "source": [
        "h5f.close()"
      ],
      "execution_count": 12,
      "outputs": []
    },
    {
      "cell_type": "code",
      "metadata": {
        "id": "3Qi8jn-GhBWp",
        "colab_type": "code",
        "colab": {
          "base_uri": "https://localhost:8080/",
          "height": 35
        },
        "outputId": "3813f352-b14a-4b69-b7ad-b08b65284ac6"
      },
      "source": [
        "X_train.shape"
      ],
      "execution_count": 13,
      "outputs": [
        {
          "output_type": "execute_result",
          "data": {
            "text/plain": [
              "(42000, 32, 32)"
            ]
          },
          "metadata": {
            "tags": []
          },
          "execution_count": 13
        }
      ]
    },
    {
      "cell_type": "code",
      "metadata": {
        "id": "me-AKqwIhGxe",
        "colab_type": "code",
        "colab": {
          "base_uri": "https://localhost:8080/",
          "height": 35
        },
        "outputId": "4189eec8-9208-4de4-847f-b560fcfe8d11"
      },
      "source": [
        "y_train.shape\n"
      ],
      "execution_count": 14,
      "outputs": [
        {
          "output_type": "execute_result",
          "data": {
            "text/plain": [
              "(42000,)"
            ]
          },
          "metadata": {
            "tags": []
          },
          "execution_count": 14
        }
      ]
    },
    {
      "cell_type": "code",
      "metadata": {
        "id": "qoBZIlpChPDs",
        "colab_type": "code",
        "colab": {}
      },
      "source": [
        "img_rows, img_cols = 32, 32\n",
        "\n",
        "# tensorflow.keras expects data to be in the format (N_E.N_H,N_W,N_C)\n",
        "# N_E = Number of Examples, N_H = height, N_W = Width, N_C = Number of Channels.\n",
        "X_train = X_train.reshape(X_train.shape[0], img_rows, img_cols, 1)\n",
        "X_val = X_val.reshape(X_val.shape[0], img_rows, img_cols, 1)\n",
        "input_shape = (img_rows, img_cols, 1)"
      ],
      "execution_count": 16,
      "outputs": []
    },
    {
      "cell_type": "code",
      "metadata": {
        "id": "KcTfFROkhSD5",
        "colab_type": "code",
        "colab": {
          "base_uri": "https://localhost:8080/",
          "height": 266
        },
        "outputId": "01ad6c87-ca1e-4906-f58f-d50f1dddb37e"
      },
      "source": [
        "plt.imshow(X_train[0])    # show first number in the dataset\n",
        "plt.show()"
      ],
      "execution_count": null,
      "outputs": [
        {
          "output_type": "display_data",
          "data": {
            "image/png": "[encoded data removed]",
            "text/plain": [
              "<Figure size 432x288 with 1 Axes>"
            ]
          },
          "metadata": {
            "tags": [],
            "needs_background": "light"
          }
        }
      ]
    },
    {
      "cell_type": "code",
      "metadata": {
        "id": "dDWJCsOZwQY7",
        "colab_type": "code",
        "colab": {
          "base_uri": "https://localhost:8080/",
          "height": 69
        },
        "outputId": "9fc19a72-e9da-4037-840f-9fc8c4fa15a4"
      },
      "source": [
        "X_train = X_train.astype('float32')\n",
        "X_val = X_val.astype('float32')\n",
        "\n",
        "#Normalizing the input\n",
        "X_train /= 255.0\n",
        "X_val /= 255.0\n",
        "print('x_train shape:', X_train.shape)\n",
        "print(X_train.shape[0], 'train samples')\n",
        "print(X_val.shape[0], 'test samples')"
      ],
      "execution_count": 17,
      "outputs": [
        {
          "output_type": "stream",
          "text": [
            "x_train shape: (42000, 32, 32, 1)\n",
            "42000 train samples\n",
            "18000 test samples\n"
          ],
          "name": "stdout"
        }
      ]
    },
    {
      "cell_type": "code",
      "metadata": {
        "id": "39y9zd4JwnuJ",
        "colab_type": "code",
        "colab": {}
      },
      "source": [
        "batch_size = 128\n",
        "num_classes = 10\n",
        "epochs = 12"
      ],
      "execution_count": 18,
      "outputs": []
    },
    {
      "cell_type": "code",
      "metadata": {
        "id": "OVKLU-hehwMO",
        "colab_type": "code",
        "colab": {
          "base_uri": "https://localhost:8080/",
          "height": 69
        },
        "outputId": "3e77257c-4448-4e16-86a2-7eeaba0809b7"
      },
      "source": [
        "from tensorflow.keras.utils import to_categorical\n",
        "\n",
        "print(\"Value before encoding:\", y_train[0])\n",
        "\n",
        "y_train = to_categorical(y_train, num_classes=10)\n",
        "y_val = to_categorical(y_val, num_classes=10)\n",
        "\n",
        "print(\"Shape of y_train:\", y_train.shape)\n",
        "print(\"One hot encoded value of y_train:\", y_train[0])"
      ],
      "execution_count": 19,
      "outputs": [
        {
          "output_type": "stream",
          "text": [
            "Value before encoding: 2\n",
            "Shape of y_train: (42000, 10)\n",
            "One hot encoded value of y_train: [0. 0. 1. 0. 0. 0. 0. 0. 0. 0.]\n"
          ],
          "name": "stdout"
        }
      ]
    },
    {
      "cell_type": "code",
      "metadata": {
        "id": "LFvK38meixNe",
        "colab_type": "code",
        "colab": {}
      },
      "source": [
        "# Initialize Sequential model\n",
        "model = tensorflow.keras.models.Sequential()\n",
        "\n",
        "\n",
        "model.add(tensorflow.keras.layers.Reshape((1024,),input_shape=(32,32,)))\n",
        "\n",
        "# Normalize the data\n",
        "model.add(tensorflow.keras.layers.BatchNormalization())"
      ],
      "execution_count": 20,
      "outputs": []
    },
    {
      "cell_type": "code",
      "metadata": {
        "id": "ambQqQ4xjAvs",
        "colab_type": "code",
        "colab": {}
      },
      "source": [
        "# Hidden layers\n",
        "model.add(tensorflow.keras.layers.Dense(200, activation='relu', name='Layer_1'))\n",
        "model.add(tensorflow.keras.layers.Dense(100, activation='relu', name='Layer_2'))\n",
        "\n",
        "# Dropout layer\n",
        "model.add(tensorflow.keras.layers.Dropout(0.5))\n",
        "\n",
        "# Hidden layers\n",
        "model.add(tensorflow.keras.layers.Dense(60, activation='relu', name='Layer_3'))\n",
        "model.add(tensorflow.keras.layers.Dense(30, activation='relu', name='Layer_4'))\n",
        "\n",
        "# Dropout layer\n",
        "model.add(tensorflow.keras.layers.Dropout(0.3))"
      ],
      "execution_count": 21,
      "outputs": []
    },
    {
      "cell_type": "code",
      "metadata": {
        "id": "SLG9eGOajFX5",
        "colab_type": "code",
        "colab": {}
      },
      "source": [
        "model.add(tensorflow.keras.layers.Dense(10, activation='softmax', name='Output'))"
      ],
      "execution_count": 22,
      "outputs": []
    },
    {
      "cell_type": "code",
      "metadata": {
        "id": "52eXEkjxjI_Y",
        "colab_type": "code",
        "colab": {}
      },
      "source": [
        "model.compile(optimizer='adam', loss='categorical_crossentropy', metrics=['accuracy'])"
      ],
      "execution_count": 23,
      "outputs": []
    },
    {
      "cell_type": "code",
      "metadata": {
        "id": "eKs_GZo6jLVp",
        "colab_type": "code",
        "colab": {
          "base_uri": "https://localhost:8080/",
          "height": 468
        },
        "outputId": "79166c99-f325-456f-86fe-79ed49bff8ca"
      },
      "source": [
        "model.summary()"
      ],
      "execution_count": 24,
      "outputs": [
        {
          "output_type": "stream",
          "text": [
            "Model: \"sequential\"\n",
            "_________________________________________________________________\n",
            "Layer (type)                 Output Shape              Param #   \n",
            "=================================================================\n",
            "reshape (Reshape)            (None, 1024)              0         \n",
            "_________________________________________________________________\n",
            "batch_normalization (BatchNo (None, 1024)              4096      \n",
            "_________________________________________________________________\n",
            "Layer_1 (Dense)              (None, 200)               205000    \n",
            "_________________________________________________________________\n",
            "Layer_2 (Dense)              (None, 100)               20100     \n",
            "_________________________________________________________________\n",
            "dropout (Dropout)            (None, 100)               0         \n",
            "_________________________________________________________________\n",
            "Layer_3 (Dense)              (None, 60)                6060      \n",
            "_________________________________________________________________\n",
            "Layer_4 (Dense)              (None, 30)                1830      \n",
            "_________________________________________________________________\n",
            "dropout_1 (Dropout)          (None, 30)                0         \n",
            "_________________________________________________________________\n",
            "Output (Dense)               (None, 10)                310       \n",
            "=================================================================\n",
            "Total params: 237,396\n",
            "Trainable params: 235,348\n",
            "Non-trainable params: 2,048\n",
            "_________________________________________________________________\n"
          ],
          "name": "stdout"
        }
      ]
    },
    {
      "cell_type": "code",
      "metadata": {
        "id": "9ToKHucBjNsd",
        "colab_type": "code",
        "colab": {
          "base_uri": "https://localhost:8080/",
          "height": 1000
        },
        "outputId": "1e6a386a-1a0a-4c70-9579-6900fa44363c"
      },
      "source": [
        "model.fit(X_train, y_train, validation_data=(X_val, y_val), epochs=30, batch_size = 32)"
      ],
      "execution_count": 25,
      "outputs": [
        {
          "output_type": "stream",
          "text": [
            "Epoch 1/30\n",
            "1313/1313 [==============================] - 7s 5ms/step - loss: 2.1406 - accuracy: 0.1941 - val_loss: 1.6071 - val_accuracy: 0.4620\n",
            "Epoch 2/30\n",
            "1313/1313 [==============================] - 7s 5ms/step - loss: 1.6997 - accuracy: 0.3943 - val_loss: 1.3024 - val_accuracy: 0.5825\n",
            "Epoch 3/30\n",
            "1313/1313 [==============================] - 7s 5ms/step - loss: 1.5137 - accuracy: 0.4775 - val_loss: 1.1493 - val_accuracy: 0.6467\n",
            "Epoch 4/30\n",
            "1313/1313 [==============================] - 7s 5ms/step - loss: 1.3492 - accuracy: 0.5511 - val_loss: 1.0344 - val_accuracy: 0.6878\n",
            "Epoch 5/30\n",
            "1313/1313 [==============================] - 7s 5ms/step - loss: 1.2156 - accuracy: 0.6125 - val_loss: 0.8885 - val_accuracy: 0.7356\n",
            "Epoch 6/30\n",
            "1313/1313 [==============================] - 7s 5ms/step - loss: 1.1266 - accuracy: 0.6444 - val_loss: 0.8281 - val_accuracy: 0.7541\n",
            "Epoch 7/30\n",
            "1313/1313 [==============================] - 7s 5ms/step - loss: 1.0474 - accuracy: 0.6751 - val_loss: 0.7653 - val_accuracy: 0.7712\n",
            "Epoch 8/30\n",
            "1313/1313 [==============================] - 7s 5ms/step - loss: 0.9868 - accuracy: 0.6986 - val_loss: 0.7420 - val_accuracy: 0.7758\n",
            "Epoch 9/30\n",
            "1313/1313 [==============================] - 7s 6ms/step - loss: 0.9472 - accuracy: 0.7107 - val_loss: 0.7213 - val_accuracy: 0.7820\n",
            "Epoch 10/30\n",
            "1313/1313 [==============================] - 7s 5ms/step - loss: 0.9125 - accuracy: 0.7233 - val_loss: 0.7030 - val_accuracy: 0.7889\n",
            "Epoch 11/30\n",
            "1313/1313 [==============================] - 7s 5ms/step - loss: 0.8789 - accuracy: 0.7334 - val_loss: 0.6855 - val_accuracy: 0.7976\n",
            "Epoch 12/30\n",
            "1313/1313 [==============================] - 7s 5ms/step - loss: 0.8500 - accuracy: 0.7464 - val_loss: 0.6436 - val_accuracy: 0.8077\n",
            "Epoch 13/30\n",
            "1313/1313 [==============================] - 7s 6ms/step - loss: 0.8271 - accuracy: 0.7542 - val_loss: 0.6442 - val_accuracy: 0.8083\n",
            "Epoch 14/30\n",
            "1313/1313 [==============================] - 7s 5ms/step - loss: 0.8152 - accuracy: 0.7576 - val_loss: 0.6363 - val_accuracy: 0.8136\n",
            "Epoch 15/30\n",
            "1313/1313 [==============================] - 7s 5ms/step - loss: 0.7857 - accuracy: 0.7677 - val_loss: 0.5982 - val_accuracy: 0.8236\n",
            "Epoch 16/30\n",
            "1313/1313 [==============================] - 7s 5ms/step - loss: 0.7712 - accuracy: 0.7697 - val_loss: 0.6137 - val_accuracy: 0.8204\n",
            "Epoch 17/30\n",
            "1313/1313 [==============================] - 7s 5ms/step - loss: 0.7601 - accuracy: 0.7773 - val_loss: 0.5983 - val_accuracy: 0.8242\n",
            "Epoch 18/30\n",
            "1313/1313 [==============================] - 7s 5ms/step - loss: 0.7453 - accuracy: 0.7776 - val_loss: 0.5921 - val_accuracy: 0.8285\n",
            "Epoch 19/30\n",
            "1313/1313 [==============================] - 7s 5ms/step - loss: 0.7265 - accuracy: 0.7840 - val_loss: 0.5957 - val_accuracy: 0.8244\n",
            "Epoch 20/30\n",
            "1313/1313 [==============================] - 7s 5ms/step - loss: 0.7134 - accuracy: 0.7896 - val_loss: 0.5874 - val_accuracy: 0.8269\n",
            "Epoch 21/30\n",
            "1313/1313 [==============================] - 7s 5ms/step - loss: 0.7211 - accuracy: 0.7864 - val_loss: 0.5790 - val_accuracy: 0.8314\n",
            "Epoch 22/30\n",
            "1313/1313 [==============================] - 7s 5ms/step - loss: 0.7047 - accuracy: 0.7909 - val_loss: 0.5690 - val_accuracy: 0.8333\n",
            "Epoch 23/30\n",
            "1313/1313 [==============================] - 7s 5ms/step - loss: 0.7036 - accuracy: 0.7925 - val_loss: 0.5695 - val_accuracy: 0.8331\n",
            "Epoch 24/30\n",
            "1313/1313 [==============================] - 7s 5ms/step - loss: 0.6854 - accuracy: 0.7978 - val_loss: 0.5701 - val_accuracy: 0.8341\n",
            "Epoch 25/30\n",
            "1313/1313 [==============================] - 7s 5ms/step - loss: 0.6855 - accuracy: 0.7979 - val_loss: 0.5496 - val_accuracy: 0.8433\n",
            "Epoch 26/30\n",
            "1313/1313 [==============================] - 7s 5ms/step - loss: 0.6639 - accuracy: 0.8051 - val_loss: 0.5546 - val_accuracy: 0.8388\n",
            "Epoch 27/30\n",
            "1313/1313 [==============================] - 7s 5ms/step - loss: 0.6724 - accuracy: 0.8031 - val_loss: 0.5533 - val_accuracy: 0.8389\n",
            "Epoch 28/30\n",
            "1313/1313 [==============================] - 7s 5ms/step - loss: 0.6597 - accuracy: 0.8074 - val_loss: 0.5337 - val_accuracy: 0.8432\n",
            "Epoch 29/30\n",
            "1313/1313 [==============================] - 7s 5ms/step - loss: 0.6455 - accuracy: 0.8106 - val_loss: 0.5513 - val_accuracy: 0.8413\n",
            "Epoch 30/30\n",
            "1313/1313 [==============================] - 7s 5ms/step - loss: 0.6531 - accuracy: 0.8085 - val_loss: 0.5616 - val_accuracy: 0.8349\n"
          ],
          "name": "stdout"
        },
        {
          "output_type": "execute_result",
          "data": {
            "text/plain": [
              "<tensorflow.python.keras.callbacks.History at 0x7f4780c2c5f8>"
            ]
          },
          "metadata": {
            "tags": []
          },
          "execution_count": 25
        }
      ]
    },
    {
      "cell_type": "code",
      "metadata": {
        "id": "81O0QHKhjTR4",
        "colab_type": "code",
        "colab": {
          "base_uri": "https://localhost:8080/",
          "height": 52
        },
        "outputId": "a6f7a4e0-1a5d-42ca-94a0-dc7645463b8d"
      },
      "source": [
        "model.evaluate(X_val, y_val)"
      ],
      "execution_count": 28,
      "outputs": [
        {
          "output_type": "stream",
          "text": [
            "563/563 [==============================] - 1s 2ms/step - loss: 0.5616 - accuracy: 0.8349\n"
          ],
          "name": "stdout"
        },
        {
          "output_type": "execute_result",
          "data": {
            "text/plain": [
              "[0.5616286396980286, 0.8348888754844666]"
            ]
          },
          "metadata": {
            "tags": []
          },
          "execution_count": 28
        }
      ]
    },
    {
      "cell_type": "code",
      "metadata": {
        "id": "MENELh40y-Vu",
        "colab_type": "code",
        "colab": {}
      },
      "source": [
        "from tensorflow.keras.models import Sequential\n",
        "from tensorflow.keras.layers import Activation, Dense\n",
        "from tensorflow.keras import optimizers\n",
        "from tensorflow.keras.layers import BatchNormalization, Dropout\n",
        "def mlp_model():\n",
        "    model = Sequential()\n",
        "    \n",
        "    model.add(Dense(50, input_shape = (1024, )))\n",
        "    model.add(BatchNormalization())                    \n",
        "    model.add(Activation('relu'))    \n",
        "    model.add(Dense(50))\n",
        "    model.add(BatchNormalization())                    \n",
        "    model.add(Activation('relu'))    \n",
        "    model.add(Dense(50))\n",
        "    model.add(BatchNormalization())                    \n",
        "    model.add(Activation('relu'))    \n",
        "    model.add(Dense(50))\n",
        "    model.add(BatchNormalization())                    \n",
        "    model.add(Activation('relu'))    \n",
        "    model.add(Dense(10))\n",
        "    model.add(Activation('softmax'))\n",
        "    \n",
        "    sgd = optimizers.SGD(lr = 0.001)\n",
        "    model.compile(optimizer = sgd, loss = 'categorical_crossentropy', metrics = ['accuracy'])\n",
        "    \n",
        "    return model"
      ],
      "execution_count": 35,
      "outputs": []
    },
    {
      "cell_type": "code",
      "metadata": {
        "id": "jnwR1UzM0AEj",
        "colab_type": "code",
        "colab": {}
      },
      "source": [
        "model = mlp_model()\n",
        "history = model.fit(X_train, y_train, epochs = 20, verbose = 1)"
      ],
      "execution_count": 36,
      "outputs": []
    },
    {
      "cell_type": "code",
      "metadata": {
        "id": "xnFjW0oP1HEA",
        "colab_type": "code",
        "colab": {}
      },
      "source": [
        ""
      ],
      "execution_count": null,
      "outputs": []
    }
  ]
}